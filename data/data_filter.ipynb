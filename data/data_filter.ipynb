{
 "cells": [
  {
   "cell_type": "code",
   "execution_count": 5,
   "metadata": {},
   "outputs": [
    {
     "name": "stdout",
     "output_type": "stream",
     "text": [
      "DatasetDict({\n",
      "    train: Dataset({\n",
      "        features: ['uuid', 'model', 'gen_input_configs', 'instruction', 'response', 'conversations', 'task_category', 'other_task_category', 'task_category_generator', 'difficulty', 'intent', 'knowledge', 'difficulty_generator', 'input_quality', 'quality_explanation', 'quality_generator', 'llama_guard_2', 'reward_model', 'instruct_reward', 'min_neighbor_distance', 'repeat_count', 'min_similar_uuid', 'instruction_length', 'response_length', 'language'],\n",
      "        num_rows: 1000000\n",
      "    })\n",
      "})\n"
     ]
    }
   ],
   "source": [
    "from datasets import load_dataset\n",
    "\n",
    "dataset_path = \"Qwen2-Magpie-Pro-1M-v0.1.jsonl\"\n",
    "dataset = load_dataset(\"json\", data_files=dataset_path)\n",
    "print(dataset)"
   ]
  },
  {
   "cell_type": "code",
   "execution_count": 6,
   "metadata": {},
   "outputs": [
    {
     "name": "stdout",
     "output_type": "stream",
     "text": [
      "Dataset({\n",
      "    features: ['uuid', 'model', 'gen_input_configs', 'instruction', 'response', 'conversations', 'task_category', 'other_task_category', 'task_category_generator', 'difficulty', 'intent', 'knowledge', 'difficulty_generator', 'input_quality', 'quality_explanation', 'quality_generator', 'llama_guard_2', 'reward_model', 'instruct_reward', 'min_neighbor_distance', 'repeat_count', 'min_similar_uuid', 'instruction_length', 'response_length', 'language'],\n",
      "    num_rows: 400517\n",
      "})\n"
     ]
    }
   ],
   "source": [
    "def high_quality_filter(example):\n",
    "    return (\n",
    "        example['input_quality'] in ['good', 'excellent']\n",
    "        and example['instruct_reward'] > -10\n",
    "        and not example['instruction'].endswith(':')\n",
    "        and (\n",
    "            example['min_similar_uuid'] is None\n",
    "            or example['uuid'] == example['min_similar_uuid']\n",
    "        )\n",
    "    )\n",
    "filtered_dataset = dataset['train'].filter(high_quality_filter)\n",
    "print(filtered_dataset)"
   ]
  },
  {
   "cell_type": "code",
   "execution_count": 3,
   "metadata": {},
   "outputs": [
    {
     "data": {
      "application/vnd.jupyter.widget-view+json": {
       "model_id": "c684cd983d6248889fa23daaefba26b1",
       "version_major": 2,
       "version_minor": 0
      },
      "text/plain": [
       "Map:   0%|          | 0/400517 [00:00<?, ? examples/s]"
      ]
     },
     "metadata": {},
     "output_type": "display_data"
    }
   ],
   "source": [
    "def get_output_length(example):\n",
    "    return len(example['response'])\n",
    "\n",
    "filtered_dataset = filtered_dataset.map(lambda x: {'response_length': get_output_length(x)})\n",
    "# sort the dataset by response_length\n",
    "sorted_dataset = filtered_dataset.sort('response_length', reverse=True)\n",
    "# select the top 300000 examples\n",
    "top_x_dataset = sorted_dataset.select(range(300000))\n",
    "# Shuffle the dataset\n",
    "top_x_dataset = top_x_dataset.shuffle(seed=42)"
   ]
  },
  {
   "cell_type": "code",
   "execution_count": 4,
   "metadata": {},
   "outputs": [
    {
     "data": {
      "application/vnd.jupyter.widget-view+json": {
       "model_id": "37d413cb41694411938426da2df3c1b2",
       "version_major": 2,
       "version_minor": 0
      },
      "text/plain": [
       "Uploading the dataset shards:   0%|          | 0/3 [00:00<?, ?it/s]"
      ]
     },
     "metadata": {},
     "output_type": "display_data"
    },
    {
     "data": {
      "application/vnd.jupyter.widget-view+json": {
       "model_id": "fca5d668fa4e4b75a0d128dcc97e5fba",
       "version_major": 2,
       "version_minor": 0
      },
      "text/plain": [
       "Creating parquet from Arrow format:   0%|          | 0/100 [00:00<?, ?ba/s]"
      ]
     },
     "metadata": {},
     "output_type": "display_data"
    },
    {
     "data": {
      "application/vnd.jupyter.widget-view+json": {
       "model_id": "c4b4c437974742a385b849b28c21ccbe",
       "version_major": 2,
       "version_minor": 0
      },
      "text/plain": [
       "Creating parquet from Arrow format:   0%|          | 0/100 [00:00<?, ?ba/s]"
      ]
     },
     "metadata": {},
     "output_type": "display_data"
    },
    {
     "data": {
      "application/vnd.jupyter.widget-view+json": {
       "model_id": "5b1dc3b000c146cead53861f571e0aa0",
       "version_major": 2,
       "version_minor": 0
      },
      "text/plain": [
       "Creating parquet from Arrow format:   0%|          | 0/100 [00:00<?, ?ba/s]"
      ]
     },
     "metadata": {},
     "output_type": "display_data"
    },
    {
     "data": {
      "application/vnd.jupyter.widget-view+json": {
       "model_id": "ed973fec2e0a42da808e5c5b29e95865",
       "version_major": 2,
       "version_minor": 0
      },
      "text/plain": [
       "README.md:   0%|          | 0.00/1.55k [00:00<?, ?B/s]"
      ]
     },
     "metadata": {},
     "output_type": "display_data"
    },
    {
     "data": {
      "text/plain": [
       "CommitInfo(commit_url='https://huggingface.co/datasets/Magpie-Align/Magpie-Qwen-Pro-300K-Filtered/commit/fe26468dee24771971ae2ed93875c5a5219ed746', commit_message='Upload dataset', commit_description='', oid='fe26468dee24771971ae2ed93875c5a5219ed746', pr_url=None, pr_revision=None, pr_num=None)"
      ]
     },
     "execution_count": 4,
     "metadata": {},
     "output_type": "execute_result"
    }
   ],
   "source": [
    "# Submit the dataset to the hub\n",
    "top_x_dataset.push_to_hub(\"Magpie-Align/Magpie-Qwen-Pro-300K-Filtered\", private=True)"
   ]
  }
 ],
 "metadata": {
  "kernelspec": {
   "display_name": "datarev",
   "language": "python",
   "name": "python3"
  },
  "language_info": {
   "codemirror_mode": {
    "name": "ipython",
    "version": 3
   },
   "file_extension": ".py",
   "mimetype": "text/x-python",
   "name": "python",
   "nbconvert_exporter": "python",
   "pygments_lexer": "ipython3",
   "version": "3.10.14"
  }
 },
 "nbformat": 4,
 "nbformat_minor": 2
}
