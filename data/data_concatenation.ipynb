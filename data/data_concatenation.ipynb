{
 "cells": [
  {
   "cell_type": "code",
   "execution_count": 9,
   "metadata": {},
   "outputs": [],
   "source": [
    "import json\n",
    "from tqdm import tqdm\n",
    "\n",
    "# Transform dataset to a Axoltol supported format\n",
    "def convert_to_sharegpt(json_file, output_file, id_prefix, start_id=0):\n",
    "    with open(json_file, 'r') as file:\n",
    "        data = json.load(file)\n",
    "\n",
    "    with open(output_file, 'w') as file:\n",
    "        for entry in data:\n",
    "            conversation_id = f\"{id_prefix}_{entry['id']+start_id}\"\n",
    "            instruction = entry['instruction']\n",
    "            response = entry['response']\n",
    "            conversations = [\n",
    "                {\"from\": \"human\", \"value\": entry['instruction']},\n",
    "                {\"from\": \"gpt\", \"value\": entry['response']}\n",
    "            ]\n",
    "            gen_input_configs = entry['gen_input_configs']\n",
    "            gen_input_configs['extract_input'] = entry['extract_input']\n",
    "            intent = entry['intent']\n",
    "            knowledge = entry['knowledge']\n",
    "            difficulty = entry['difficulty']\n",
    "            difficulty_generator = entry['difficulty_generator']\n",
    "            input_quality = entry['input_quality']\n",
    "            quality_explanation = entry['quality_explanation']\n",
    "            quality_generator = entry['quality_generator']\n",
    "            task_category = entry['task_category']\n",
    "            other_task_category = entry['other_task_category']\n",
    "            task_category_generator = entry['task_category_generator']\n",
    "            llama_guard_2 = entry['llama_guard_2']\n",
    "            instruct_reward = entry['instruct_reward']\n",
    "            reward_model = entry['reward_model']\n",
    "\n",
    "            if entry['gen_input_configs']['input_generator'] != entry['gen_response_configs']['output_generator']:\n",
    "                raise ValueError(\"Input and output generators must be the same\")\n",
    "            \n",
    "            if id_prefix not in entry['gen_input_configs']['input_generator']:\n",
    "                raise ValueError(f\"Input generator must contain {id_prefix}\")\n",
    "\n",
    "            sharegpt_entry = {\n",
    "                \"conversation_id\": conversation_id,\n",
    "                \"instruction\": instruction,\n",
    "                \"response\": response,\n",
    "                \"conversations\": conversations,\n",
    "                \"gen_input_configs\": gen_input_configs,\n",
    "                \"intent\": intent,\n",
    "                \"knowledge\": knowledge,\n",
    "                \"difficulty\": difficulty,\n",
    "                \"difficulty_generator\": difficulty_generator,\n",
    "                \"input_quality\": input_quality,\n",
    "                \"quality_explanation\": quality_explanation,\n",
    "                \"quality_generator\": quality_generator,\n",
    "                \"task_category\": task_category,\n",
    "                \"other_task_category\": other_task_category,\n",
    "                \"task_category_generator\": task_category_generator,\n",
    "                \"llama_guard_2\": llama_guard_2,\n",
    "                \"instruct_reward\": instruct_reward,\n",
    "                \"reward_model\": reward_model\n",
    "            }\n",
    "\n",
    "            file.write(json.dumps(sharegpt_entry) + '\\n')\n",
    "    \n",
    "    print(f\"Converted {len(data)} entries to {output_file}\")\n",
    "    return len(data)"
   ]
  },
  {
   "cell_type": "code",
   "execution_count": 10,
   "metadata": {},
   "outputs": [
    {
     "name": "stderr",
     "output_type": "stream",
     "text": [
      "  0%|          | 0/10 [00:00<?, ?it/s]"
     ]
    },
    {
     "name": "stderr",
     "output_type": "stream",
     "text": [
      " 10%|█         | 1/10 [00:05<00:48,  5.35s/it]"
     ]
    },
    {
     "name": "stdout",
     "output_type": "stream",
     "text": [
      "Converted 100000 entries to Qwen2-72B-Instruct_sharegpt_shard0.jsonl\n"
     ]
    },
    {
     "name": "stderr",
     "output_type": "stream",
     "text": [
      " 20%|██        | 2/10 [00:10<00:42,  5.32s/it]"
     ]
    },
    {
     "name": "stdout",
     "output_type": "stream",
     "text": [
      "Converted 100000 entries to Qwen2-72B-Instruct_sharegpt_shard1.jsonl\n"
     ]
    },
    {
     "name": "stderr",
     "output_type": "stream",
     "text": [
      " 30%|███       | 3/10 [00:15<00:36,  5.23s/it]"
     ]
    },
    {
     "name": "stdout",
     "output_type": "stream",
     "text": [
      "Converted 100000 entries to Qwen2-72B-Instruct_sharegpt_shard2.jsonl\n"
     ]
    },
    {
     "name": "stderr",
     "output_type": "stream",
     "text": [
      " 40%|████      | 4/10 [00:20<00:30,  5.16s/it]"
     ]
    },
    {
     "name": "stdout",
     "output_type": "stream",
     "text": [
      "Converted 100000 entries to Qwen2-72B-Instruct_sharegpt_shard3.jsonl\n"
     ]
    },
    {
     "name": "stderr",
     "output_type": "stream",
     "text": [
      " 50%|█████     | 5/10 [00:26<00:26,  5.23s/it]"
     ]
    },
    {
     "name": "stdout",
     "output_type": "stream",
     "text": [
      "Converted 100000 entries to Qwen2-72B-Instruct_sharegpt_shard4.jsonl\n"
     ]
    },
    {
     "name": "stderr",
     "output_type": "stream",
     "text": [
      " 60%|██████    | 6/10 [00:31<00:20,  5.18s/it]"
     ]
    },
    {
     "name": "stdout",
     "output_type": "stream",
     "text": [
      "Converted 100000 entries to Qwen2-72B-Instruct_sharegpt_shard5.jsonl\n"
     ]
    },
    {
     "name": "stderr",
     "output_type": "stream",
     "text": [
      " 70%|███████   | 7/10 [00:36<00:15,  5.21s/it]"
     ]
    },
    {
     "name": "stdout",
     "output_type": "stream",
     "text": [
      "Converted 100000 entries to Qwen2-72B-Instruct_sharegpt_shard6.jsonl\n"
     ]
    },
    {
     "name": "stderr",
     "output_type": "stream",
     "text": [
      " 80%|████████  | 8/10 [00:41<00:10,  5.23s/it]"
     ]
    },
    {
     "name": "stdout",
     "output_type": "stream",
     "text": [
      "Converted 100000 entries to Qwen2-72B-Instruct_sharegpt_shard7.jsonl\n"
     ]
    },
    {
     "name": "stderr",
     "output_type": "stream",
     "text": [
      " 90%|█████████ | 9/10 [00:47<00:05,  5.23s/it]"
     ]
    },
    {
     "name": "stdout",
     "output_type": "stream",
     "text": [
      "Converted 100000 entries to Qwen2-72B-Instruct_sharegpt_shard8.jsonl\n"
     ]
    },
    {
     "name": "stderr",
     "output_type": "stream",
     "text": [
      "100%|██████████| 10/10 [00:52<00:00,  5.23s/it]\n"
     ]
    },
    {
     "name": "stdout",
     "output_type": "stream",
     "text": [
      "Converted 100000 entries to Qwen2-72B-Instruct_sharegpt_shard9.jsonl\n"
     ]
    },
    {
     "name": "stderr",
     "output_type": "stream",
     "text": [
      "100%|██████████| 10/10 [00:07<00:00,  1.27it/s]"
     ]
    },
    {
     "name": "stdout",
     "output_type": "stream",
     "text": [
      "Concatenated 10 files to Qwen2-72B-Instruct_sharegpt.jsonl\n"
     ]
    },
    {
     "name": "stderr",
     "output_type": "stream",
     "text": [
      "\n"
     ]
    }
   ],
   "source": [
    "input_files = [\n",
    "    \"Qwen2-72B-Instruct_topp1_temp1_1718659695/Magpie_Qwen2-72B-Instruct_100000_1718659695_ins_res_difficulty_quality_category_safety_reward.json\",\n",
    "    \"Qwen2-72B-Instruct_topp1_temp1_1718693980/Magpie_Qwen2-72B-Instruct_100000_1718693980_ins_res_difficulty_quality_category_safety_reward.json\",\n",
    "    \"Qwen2-72B-Instruct_topp1_temp1_1718702029/Magpie_Qwen2-72B-Instruct_100000_1718702029_ins_res_difficulty_quality_category_safety_reward.json\",\n",
    "    \"Qwen2-72B-Instruct_topp1_temp1.1_1718775995/Magpie_Qwen2-72B-Instruct_100000_1718775995_ins_res_difficulty_quality_category_safety_reward.json\",\n",
    "    \"Qwen2-72B-Instruct_topp1_temp1.1_1718776098/Magpie_Qwen2-72B-Instruct_100000_1718776098_ins_res_difficulty_quality_category_safety_reward.json\",\n",
    "    \"Qwen2-72B-Instruct_topp1_temp1.1_1718818690/Magpie_Qwen2-72B-Instruct_100000_1718818690_ins_res_difficulty_quality_category_safety_reward.json\",\n",
    "    \"Qwen2-72B-Instruct_topp1_temp1.1_1718868461/Magpie_Qwen2-72B-Instruct_100000_1718868461_ins_res_difficulty_quality_category_safety_reward.json\",\n",
    "    \"Qwen2-72B-Instruct_topp0.99_temp1.2_1718868635/Magpie_Qwen2-72B-Instruct_100000_1718868635_ins_res_difficulty_quality_category_safety_reward.json\",\n",
    "    \"Qwen2-72B-Instruct_topp0.99_temp1.2_1718897681/Magpie_Qwen2-72B-Instruct_100000_1718897681_ins_res_difficulty_quality_category_safety_reward.json\",\n",
    "    \"Qwen2-72B-Instruct_topp0.99_temp1.2_1718950026/Magpie_Qwen2-72B-Instruct_100000_1718950026_ins_res_difficulty_quality_category_safety_reward.json\",\n",
    "]\n",
    "\n",
    "# Convert each file to Axolotl format\n",
    "idx = 0\n",
    "id_prefix = \"Qwen2-72B-Instruct\"\n",
    "converted_files = []\n",
    "for i in tqdm(range(len(input_files))):\n",
    "    converted_file_name = f\"{id_prefix}_sharegpt_shard{i}.jsonl\"\n",
    "    len_data = convert_to_sharegpt(input_files[i], converted_file_name, id_prefix, idx)\n",
    "    idx += len_data\n",
    "    converted_files.append(converted_file_name)\n",
    "\n",
    "# Concatenate all files\n",
    "output_file = f\"{id_prefix}_sharegpt.jsonl\"\n",
    "with open(output_file, 'w') as outfile:\n",
    "    for fname in tqdm(converted_files):\n",
    "        with open(fname) as infile:\n",
    "            for line in infile:\n",
    "                outfile.write(line)\n",
    "\n",
    "print(f\"Concatenated {len(converted_files)} files to {output_file}\")"
   ]
  }
 ],
 "metadata": {
  "kernelspec": {
   "display_name": "datarev",
   "language": "python",
   "name": "python3"
  },
  "language_info": {
   "codemirror_mode": {
    "name": "ipython",
    "version": 3
   },
   "file_extension": ".py",
   "mimetype": "text/x-python",
   "name": "python",
   "nbconvert_exporter": "python",
   "pygments_lexer": "ipython3",
   "version": "3.10.14"
  }
 },
 "nbformat": 4,
 "nbformat_minor": 2
}
